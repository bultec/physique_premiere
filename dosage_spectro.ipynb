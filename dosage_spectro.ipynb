{
 "cells": [
  {
   "cell_type": "markdown",
   "metadata": {
    "slideshow": {
     "slide_type": "slide"
    }
   },
   "source": [
    "# Dosage par étalonnage"
   ]
  },
  {
   "cell_type": "markdown",
   "metadata": {
    "slideshow": {
     "slide_type": "slide"
    }
   },
   "source": [
    "### Protocole"
   ]
  },
  {
   "cell_type": "markdown",
   "metadata": {},
   "source": [
    "Importation des biblothèques et initialisations"
   ]
  },
  {
   "cell_type": "code",
   "execution_count": null,
   "metadata": {},
   "outputs": [],
   "source": [
    "import matplotlib.pyplot as plt     # Importe le module pyplot en plt\n",
    "import matplotlib\n",
    "import numpy as np                  # Importe la bibliothèque numpy en np\n",
    "from scipy.stats import linregress\n",
    "\n",
    "# initialisation\n",
    "plt.rc('text', usetex=True)"
   ]
  },
  {
   "cell_type": "markdown",
   "metadata": {
    "slideshow": {
     "slide_type": "slide"
    }
   },
   "source": [
    "Saisie des tableaux de données"
   ]
  },
  {
   "cell_type": "code",
   "execution_count": null,
   "metadata": {},
   "outputs": [],
   "source": [
    "# concentration solution mère en ions permanganate\n",
    "C1 = ...\n",
    "# volume solution mère (mL)\n",
    "t_V1 =[...] \n",
    "# volume eau distimée (mL)\n",
    "t_V2 = [...] \n",
    "# Absorbance expérimentale\n",
    "t_A = [...]"
   ]
  },
  {
   "cell_type": "markdown",
   "metadata": {
    "slideshow": {
     "slide_type": "slide"
    }
   },
   "source": [
    "Calcul des concentrations"
   ]
  },
  {
   "cell_type": "code",
   "execution_count": null,
   "metadata": {},
   "outputs": [],
   "source": [
    "# Calcul des concentrations c ions permangate dans le mélange\n",
    "t_C = []\n",
    "for V1, V2 in zip(t_V1, t_V2):\n",
    "    C = ...\n",
    "    t_C. append(C)    "
   ]
  },
  {
   "cell_type": "markdown",
   "metadata": {
    "slideshow": {
     "slide_type": "slide"
    }
   },
   "source": [
    "Calcul du modèle linéaire de la forme 𝑦 = m × 𝑥 + p "
   ]
  },
  {
   "cell_type": "code",
   "execution_count": null,
   "metadata": {},
   "outputs": [],
   "source": [
    "Modele = linregress(t_C,t_A) # calcul du modèle\n",
    "m,p = Modele[0],Modele[1]    \n",
    "A_th = []\n",
    "for i in range (len(t_C)):\n",
    "    A = m * t_C[i] + p\n",
    "    A_th.append(A)    "
   ]
  },
  {
   "cell_type": "markdown",
   "metadata": {
    "slideshow": {
     "slide_type": "slide"
    }
   },
   "source": [
    "Paramétrage du graphique et choix des grandeurs placées en abscisse et en ordonnée"
   ]
  },
  {
   "cell_type": "code",
   "execution_count": null,
   "metadata": {
    "slideshow": {
     "slide_type": "-"
    }
   },
   "outputs": [],
   "source": [
    "plt.figure('Dosage spectrophotométrique',figsize=(12,8))# Initialise la figure\n",
    "plt.title('Dosage spectrophotométrique',fontsize = 18)# Titre du graphe\n",
    "plt.xlabel('Concentration C (mol.L-1)',fontsize = 18)            # Label de l’axe des abscisses (en Latex)\n",
    "plt.ylabel('Absorbance A',fontsize = 18)         # Label de l’axe des ordonnées (en Latex)\n",
    "plt.xticks(fontsize=14)\n",
    "plt.ticklabel_format(axis='x',style='scientific',scilimits=(-1,2))\n",
    "plt.yticks(fontsize=14)  \n",
    "plt.plot(t_C,t_A,'r+',ms=14,label='Points expérimentaux') # Points expérimentaux\n",
    "plt.plot(t_C,A_th,'g--',label='Régression linéaire',lw=1)\n",
    "\n",
    "\n",
    "#Affichage des étiquettes\n",
    "s='m = {:.2f} L/mol\\np = {:.2f} mol.L-1'.format(m,p)\n",
    "plt.text(1.5e-2,0.025,s,fontsize=14, bbox=dict(boxstyle=\"round,pad=0.6\",fc=\"white\", ec=\"orange\",lw=0.5))\n",
    "plt.show()"
   ]
  },
  {
   "cell_type": "markdown",
   "metadata": {
    "slideshow": {
     "slide_type": "slide"
    }
   },
   "source": [
    "## Affichage de la modélisation"
   ]
  },
  {
   "cell_type": "code",
   "execution_count": null,
   "metadata": {},
   "outputs": [],
   "source": [
    "# Affichage en mode texte\n",
    "print('Modélisation de la courbe d\\'étalonnage :')\n",
    "print('m =','{:.2f}'.format(m),'l/mol','\\np =','{:.2f}'.format(p))"
   ]
  },
  {
   "cell_type": "code",
   "execution_count": null,
   "metadata": {},
   "outputs": [],
   "source": []
  }
 ],
 "metadata": {
  "celltoolbar": "Format de la Cellule Texte Brut",
  "kernelspec": {
   "display_name": "Python 3",
   "language": "python",
   "name": "python3"
  },
  "language_info": {
   "codemirror_mode": {
    "name": "ipython",
    "version": 3
   },
   "file_extension": ".py",
   "mimetype": "text/x-python",
   "name": "python",
   "nbconvert_exporter": "python",
   "pygments_lexer": "ipython3",
   "version": "3.7.3"
  }
 },
 "nbformat": 4,
 "nbformat_minor": 2
}
