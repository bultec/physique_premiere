{
 "cells": [
  {
   "cell_type": "markdown",
   "metadata": {},
   "source": [
    "# Evolution d'un système chimique - Application"
   ]
  },
  {
   "cell_type": "markdown",
   "metadata": {},
   "source": [
    "### Exercice\n",
    "On place un morceau de fer de masse $m=2,5~g$ dans un volume $V=100~mL$ d'une solution d'acide chlorhydrique de concentration en ions oxonium $C=0.20~mol.L^{-1}$.\n",
    "\n",
    "La réaction (suposée totale) qui se produit est la suivante:\n",
    "\n",
    ">$\\large Fe + 2~H_{3}O^{+} \\longrightarrow Fe^{2+} + H_{2} + 2~H_{2}O$\n",
    "\n",
    "Déterminer:\n",
    "1. L'avancement maximal\n",
    "2. Le réactif limitant\n",
    "3. La composition de système à l'état final\n",
    "4. La concentration finale en ions fer (II)\n",
    "5. En négligeant la quantité d'eau formée, déterminer le volume de dihydrogène dégagé.\n",
    "\n",
    "**Données**\n",
    "\n",
    "* Masse molaine du fer: $M(Fe)~=~55,9~g.mol^{-1}$\n",
    "* Volume molaire des gaz dans les conditions de l'expérience: $V_m~=~24~L.mol^{-1}$"
   ]
  },
  {
   "cell_type": "markdown",
   "metadata": {},
   "source": [
    "### Programme"
   ]
  },
  {
   "cell_type": "markdown",
   "metadata": {},
   "source": [
    "Affectation (multiple) des nombres stoechiométriques associés aux réactifs dans une première liste et associés aux produits dans une seconde liste :"
   ]
  },
  {
   "cell_type": "code",
   "execution_count": 1,
   "metadata": {},
   "outputs": [],
   "source": [
    "import numpy as np\n",
    "\n",
    "nombres_stoechiometriques_reactifs = np.array([1,2])\n",
    "nombres_stoechiometriques_produits = np.array([1,1,2])"
   ]
  },
  {
   "cell_type": "markdown",
   "metadata": {},
   "source": [
    "Calcul des quantités initiales de réactifs"
   ]
  },
  {
   "cell_type": "code",
   "execution_count": 2,
   "metadata": {},
   "outputs": [],
   "source": [
    "nFe = 2.5/55.9\n",
    "noxo = 0.20 * 100e-3"
   ]
  },
  {
   "cell_type": "markdown",
   "metadata": {},
   "source": [
    "Initialisation de la liste des quantités initiales en réactifs :"
   ]
  },
  {
   "cell_type": "code",
   "execution_count": 3,
   "metadata": {},
   "outputs": [
    {
     "name": "stdout",
     "output_type": "stream",
     "text": [
      "Quantité initiale en réactif R1 : 4.47e-02 mol\n",
      "Quantité initiale en réactif R2 : 2.00e-02 mol\n"
     ]
    }
   ],
   "source": [
    "quantites_reactifs = np.array([nFe,noxo])\n",
    "for i, n in enumerate(quantites_reactifs,1):\n",
    "    print(\"Quantité initiale en réactif R\"+str(i)+\" : \"+\"{:.2e}\".format(n)+\" mol\")"
   ]
  },
  {
   "cell_type": "markdown",
   "metadata": {},
   "source": [
    "Calcul, pour chaque réactif, de la valeur du rapport $\\displaystyle \\frac{quantité~initiale}{nombre~stoechiométrique}$"
   ]
  },
  {
   "cell_type": "code",
   "execution_count": 4,
   "metadata": {},
   "outputs": [],
   "source": [
    "xfinal = quantites_reactifs/nombres_stoechiometriques_reactifs"
   ]
  },
  {
   "cell_type": "markdown",
   "metadata": {},
   "source": [
    "Calcul et affichage de l'avancement maximal de la réaction :"
   ]
  },
  {
   "cell_type": "code",
   "execution_count": 5,
   "metadata": {},
   "outputs": [
    {
     "name": "stdout",
     "output_type": "stream",
     "text": [
      "Si la transformation est totale, l'avancement final vaut : xmax = 1.00e-02 mol.\n"
     ]
    }
   ],
   "source": [
    "xmax=min(xfinal)\n",
    "print(\"Si la transformation est totale, l'avancement final vaut : xmax =\",\"{:.2e}\".format(xmax),\"mol.\")"
   ]
  },
  {
   "cell_type": "markdown",
   "metadata": {},
   "source": [
    "Calcul et affichage de la quantité restante en chacun des réactifs :"
   ]
  },
  {
   "cell_type": "code",
   "execution_count": 6,
   "metadata": {},
   "outputs": [
    {
     "name": "stdout",
     "output_type": "stream",
     "text": [
      "Quantité finale en réactif R1 : 3.47e-02 mol\n",
      "Quantité finale en réactif R2 : 0.00e+00 mol\n"
     ]
    }
   ],
   "source": [
    "quantites_finales_reactifs=quantites_reactifs-nombres_stoechiometriques_reactifs*xmax\n",
    "for i, n in enumerate(quantites_finales_reactifs,1):\n",
    "    print(\"Quantité finale en réactif R\"+str(i)+\" : \"+\"{:.2e}\".format(n)+\" mol\")"
   ]
  },
  {
   "cell_type": "markdown",
   "metadata": {},
   "source": [
    "Calcul et affichage de la quantité formée en chacun des produits :"
   ]
  },
  {
   "cell_type": "code",
   "execution_count": 7,
   "metadata": {},
   "outputs": [
    {
     "name": "stdout",
     "output_type": "stream",
     "text": [
      "Quantité finale en produit P1 : 1.00e-02 mol\n",
      "Quantité finale en produit P2 : 1.00e-02 mol\n",
      "Quantité finale en produit P3 : 2.00e-02 mol\n"
     ]
    }
   ],
   "source": [
    "quantites_finales_produits = nombres_stoechiometriques_produits*xmax         \n",
    "for i, n in enumerate(quantites_finales_produits,1):    \n",
    "    print(\"Quantité finale en produit P\"+str(i)+\" : \"+\"{:.2e}\".format(n)+\" mol\")"
   ]
  },
  {
   "cell_type": "markdown",
   "metadata": {},
   "source": [
    "Quantité de dihydrogène formé"
   ]
  },
  {
   "cell_type": "code",
   "execution_count": 8,
   "metadata": {},
   "outputs": [
    {
     "name": "stdout",
     "output_type": "stream",
     "text": [
      "Volume de dihydrogène dégagé : 1.00e-02 L ( 10.0 mL)\n"
     ]
    }
   ],
   "source": [
    "nH2 = quantites_finales_produits[1]\n",
    "vH2 = nH2 * 24\n",
    "print(\"Volume de dihydrogène dégagé :\",\"{:.2e}\".format(nH2),\"L (\",\"{:.1f}\".format(nH2*1000),\"mL)\")"
   ]
  },
  {
   "cell_type": "markdown",
   "metadata": {},
   "source": [
    "Concentration en ions fer (II)"
   ]
  },
  {
   "cell_type": "code",
   "execution_count": 9,
   "metadata": {},
   "outputs": [
    {
     "name": "stdout",
     "output_type": "stream",
     "text": [
      "Concentration en ions fer (II) : 1.00e-01 mol.L-1\n"
     ]
    }
   ],
   "source": [
    "n_ion_fer =  quantites_finales_produits[0]\n",
    "cfe = n_ion_fer / 100e-3\n",
    "print(\"Concentration en ions fer (II) :\",\"{:.2e}\".format(cfe),\"mol.L-1\")"
   ]
  },
  {
   "cell_type": "code",
   "execution_count": null,
   "metadata": {},
   "outputs": [],
   "source": []
  }
 ],
 "metadata": {
  "celltoolbar": "Aucun(e)",
  "kernelspec": {
   "display_name": "Python 3",
   "language": "python",
   "name": "python3"
  },
  "language_info": {
   "codemirror_mode": {
    "name": "ipython",
    "version": 3
   },
   "file_extension": ".py",
   "mimetype": "text/x-python",
   "name": "python",
   "nbconvert_exporter": "python",
   "pygments_lexer": "ipython3",
   "version": "3.7.3"
  }
 },
 "nbformat": 4,
 "nbformat_minor": 2
}
