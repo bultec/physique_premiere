{
 "cells": [
  {
   "cell_type": "code",
   "execution_count": 1,
   "metadata": {},
   "outputs": [],
   "source": [
    "# exécutez cette cellule pour pouvoir effectuer les affichages ci-dessous\n",
    "def affiche(N,T):\n",
    "    s = N + ' = ['\n",
    "    for x in T:\n",
    "        s += '{:.2e}, '.format(x)\n",
    "    s = s[:-2] + ']'\n",
    "    print(s)"
   ]
  },
  {
   "cell_type": "markdown",
   "metadata": {},
   "source": [
    "# 1SPE CHIM 3 - Evolution d'un système chimique"
   ]
  },
  {
   "cell_type": "markdown",
   "metadata": {},
   "source": [
    " Le programme suivant permet de tracer l'évolution des quantités de réactifs et de produits en fonction de l'avancement de la réaction dans le cas d'une transformation chimique (supposée totale) et modélisée par la réaction d'équation :\n",
    "\n",
    ">$\\large  Cu^{2+} + 2~HO^{-} \\longrightarrow Cu(OH)_{2}$"
   ]
  },
  {
   "cell_type": "markdown",
   "metadata": {},
   "source": [
    "**Données :**\n",
    "    \n",
    "- L'ion cuivre(II) réagit avec l'ion hydroxyde pour former un précipité d'hydroxyde de cuivre (II).\n",
    "    \n",
    "- Seul l'ion cuivre(II) absorbe le rayonnement de longueur d'onde indiquée par le professeur ($\\lambda = 700~nm$)\n",
    "    \n",
    "- Une réaction s'arrête lorsqu'un des réactifs n'est plus disponible, on parle alors de réactif limitant.\n",
    "    \n",
    "- L’avancement d’une réaction, noté `x` , est une grandeur exprimée en mole qui permet de rendre compte de l’évolution des quantités de matière des espèces au sein d’un système chimique au cours du temps.\n",
    "    \n",
    "- Tant que les réactifs n'ont pas été mis en contact `x = 0 mol`, la réaction n'a pas commencé!\n",
    "\n",
    "## Protocole\n",
    "    \n",
    "- Le professeur vous attribuera un numéro de binome\n",
    "\n",
    "| Binôme         | 0 | 9 | 1 | 2 | 3 | 4 | 5 | 6 | 7 | 8 |\n",
    "|----------------|---|---|---|---|---|---|---|---|---|---|\n",
    "| $V_1$(mL)      | 0 | 25| 25| 25| 25| 25| 25| 25| 25| 25| \n",
    "| $V_2$(mL)      | 0 | 0 | 1 | 2 | 3 | 4 | 5 | 6 | 7 | 8 |\n",
    "| $V_{eau}$ (mL) | 2 | 8 | 7 | 6 | 5 | 4 | 3 | 2 | 1 | 0 |\n",
    "\n",
    "- Dans un bécher, mélanger soigneusement $V_1 = 25 mL$ de solution de sulfate de cuivre de concentration $C_1 = 0,10 mol.L^{-1}$ avec le volume $V_2$ de solution d'hydroxyde de sodium de concentration $C_2 = 1,0 mol.L^{-1}$ et le volume $V_{eau}$ d'eau distillée indiqué pour votre groupe.\n",
    "- Filtrer le tout sans ajouter d'eau distillée supplémentaire.\n",
    "- Prélever un peu de filtrat dans une cuve de spectrophotométrie.\n",
    "\n",
    "**Notations employées**\n",
    "- $n_1$ quantité de matière en ions cuivre (II)\n",
    "- $n_2$ quantité de matière en ions hydroxyde\n",
    "- $n_3$ quantité de matière en hydroxyde de cuivre (II)\n",
    "- $A_{ini}$ absorbance initiale correspondant à la solution n°9\n",
    "- $_{ini}$ indice indiquant qu'il s'agit de la situation avant le mélange des réactifs\n",
    "- $_f$ indice indiquant qu'il s'agit de la situation obtenue après la réaction des réactifs entre eux\n",
    "- $_{th}$ indice indiquant qu'on travaille en théorie, c'est à dire que nos hypothèses sont vérifiées\n",
    "- $_{exp}$ indice indiquant que ce sont les résultats réellement obtenus lors de l'expérience"
   ]
  },
  {
   "cell_type": "markdown",
   "metadata": {},
   "source": [
    "## Observations (aspects qualitatif et quantitatif)\n",
    "Réalisez le protocole et notez vos observations ci dessous"
   ]
  },
  {
   "cell_type": "markdown",
   "metadata": {},
   "source": [
    "- On obbserve l'apparition d'un précipité d'hydroxyde bleu de cuivre(II).\n",
    "- La solution initialement bleus se décolore.\n",
    "- La décoloration n'est pas totale pour certains groupes car les ions cuivre (II) ne sont pas totalement consommés."
   ]
  },
  {
   "cell_type": "markdown",
   "metadata": {},
   "source": [
    "## Exploitation :\n",
    "<div class=\"alert alert-block alert-info\"> \n",
    "    \n",
    "Pourquoi est-on obligé d'ajouter un peu d'eau distillée dans le mélange avant la filtration?\n",
    "</div>    "
   ]
  },
  {
   "cell_type": "markdown",
   "metadata": {},
   "source": [
    "On est obligé d'ajouter un peu d'eau distillée dans le mélange avant la filtration pour que les volumes de tous les groupes soient identiques."
   ]
  },
  {
   "cell_type": "markdown",
   "metadata": {},
   "source": [
    "<div class=\"alert alert-block alert-info\"> \n",
    "    \n",
    "Saisir les données expérimentales correspondant à tous les groupes.\n",
    "</div>"
   ]
  },
  {
   "cell_type": "code",
   "execution_count": 2,
   "metadata": {},
   "outputs": [],
   "source": [
    "import numpy as np\n",
    "\n",
    "# Données expérimentales\n",
    "\n",
    "# Volume initial de la solution de sulfate de cuivre en Litre\n",
    "V1 = 0.025\n",
    "# Concentration initiale de la solution de sulfate de cuivre en mol/l\n",
    "C1 = 0.10\n",
    "# Concentration initiale de la solution d'hydroxyde de sodium en mol/L\n",
    "C2 = 1.0\n",
    "\n",
    "# Volume de solution d'hydroxyde de sodium introduit en Litre\n",
    "t_V2 = [0.0,1.0e-3,2.0e-3,3.0e-3,4.0e-3,5.0e-3,6.0e-3,7.0e-3,8.0e-3]\n",
    "\n",
    "# Absorbance initiale\n",
    "Ainitiale = 0.506\n",
    "\n",
    "# Absorbance de chaque filtrat expérimental\n",
    "t_A = [0.506,0.398, 0.280, 0.138, 0.020, 0.006, 0.004, 0.003, 0.004]"
   ]
  },
  {
   "cell_type": "markdown",
   "metadata": {},
   "source": [
    "<div class=\"alert alert-block alert-info\"> \n",
    "    \n",
    "Déterminer les quantités de matière initiale `n1` d'ion cuivre(II) et `n2` d'ions hydroxyde pour chaque groupe.\n",
    "</div>    "
   ]
  },
  {
   "cell_type": "code",
   "execution_count": 3,
   "metadata": {},
   "outputs": [
    {
     "name": "stdout",
     "output_type": "stream",
     "text": [
      "n1 = 2.50e-03 mol\n",
      "t_n2(mol) = [0.00e+00, 1.00e-03, 2.00e-03, 3.00e-03, 4.00e-03, 5.00e-03, 6.00e-03, 7.00e-03, 8.00e-03]\n"
     ]
    }
   ],
   "source": [
    "# quantités de matière initiale d'ion cuivre(II)\n",
    "n1 = C1*V1\n",
    "\n",
    "# quantités de matière initiale d'ions hydroxyde pour chaque groupe\n",
    "t_n2 = []\n",
    "for V2 in t_V2:\n",
    "    n2 = C2*V2\n",
    "    t_n2.append(n2)\n",
    "\n",
    "# affichage    \n",
    "print('n1 = {:.2e} mol'.format(n1))\n",
    "affiche('t_n2(mol)',t_n2)"
   ]
  },
  {
   "cell_type": "markdown",
   "metadata": {},
   "source": [
    "<div class=\"alert alert-block alert-info\"> \n",
    "    \n",
    "A l'aide de la Loi de Beer Lambert, vérifier que la quantité d'ions $Cu^{2+}$ consommés, est donnée par la relation :\n",
    "    \n",
    "$$ x_{1f} = n_1 \\times \\big( 1 - \\frac {A} {A_{ini}} \\big) $$\n",
    "\n",
    "et calculer `x1f`pour chaque groupe. \n",
    "</div>"
   ]
  },
  {
   "cell_type": "code",
   "execution_count": 4,
   "metadata": {
    "scrolled": true
   },
   "outputs": [
    {
     "name": "stdout",
     "output_type": "stream",
     "text": [
      "x1f(mol) = [0.00e+00, 5.34e-04, 1.12e-03, 1.82e-03, 2.40e-03, 2.47e-03, 2.48e-03, 2.49e-03, 2.48e-03]\n"
     ]
    }
   ],
   "source": [
    "t_x1f = []\n",
    "for A in t_A:\n",
    "    x1f = n1 *(1 - A / Ainitiale)\n",
    "    t_x1f.append(x1f)\n",
    "    \n",
    "# affichage    \n",
    "affiche('x1f(mol)',t_x1f)"
   ]
  },
  {
   "cell_type": "markdown",
   "metadata": {},
   "source": [
    "<div class=\"alert alert-block alert-info\"> \n",
    "    \n",
    "Déterminer, pour chaque groupe, la quantité de matière `n1f` en ions cuivre(II) restant dans le mélange à l'état final\n",
    "</div>    "
   ]
  },
  {
   "cell_type": "code",
   "execution_count": 5,
   "metadata": {
    "scrolled": true
   },
   "outputs": [
    {
     "name": "stdout",
     "output_type": "stream",
     "text": [
      "n1f(mol) = [2.50e-03, 1.97e-03, 1.38e-03, 6.82e-04, 9.88e-05, 2.96e-05, 1.98e-05, 1.48e-05, 1.98e-05]\n"
     ]
    }
   ],
   "source": [
    "# quantité de matière (pour chaque groupe) en ions cuivre(II) restant dans le mélange à l'état final\n",
    "t_n1f = []\n",
    "for x1f in t_x1f:\n",
    "    n1f = n1 - x1f\n",
    "    t_n1f.append(n1f)\n",
    "    \n",
    "# affichage    \n",
    "affiche('n1f(mol)',t_n1f)"
   ]
  },
  {
   "cell_type": "markdown",
   "metadata": {},
   "source": [
    "<div class=\"alert alert-block alert-info\"> \n",
    "    \n",
    "Déterminer la quantité de matière `n3f` hydroxyde de cuivre formé dans le mélange à l'état final\n",
    "</div>    "
   ]
  },
  {
   "cell_type": "code",
   "execution_count": 6,
   "metadata": {
    "scrolled": true
   },
   "outputs": [
    {
     "name": "stdout",
     "output_type": "stream",
     "text": [
      "n3f(mol) = [0.00e+00, 5.34e-04, 1.12e-03, 1.82e-03, 2.40e-03, 2.47e-03, 2.48e-03, 2.49e-03, 2.48e-03]\n"
     ]
    }
   ],
   "source": [
    "# n3f = quantité de matière en Cu(OH)2 formé dans le mélange à l'état final\n",
    "t_n3f = []\n",
    "for x1f in t_x1f:\n",
    "    n3f = x1f\n",
    "    t_n3f.append(n3f)\n",
    "\n",
    "# affichage    \n",
    "affiche('n3f(mol)',t_n3f)"
   ]
  },
  {
   "cell_type": "markdown",
   "metadata": {},
   "source": [
    "## Affichage du graphique"
   ]
  },
  {
   "cell_type": "code",
   "execution_count": 7,
   "metadata": {},
   "outputs": [
    {
     "data": {
      "image/png": "[encoded data removed]",
      "text/plain": [
       "<Figure size 864x576 with 1 Axes>"
      ]
     },
     "metadata": {
      "needs_background": "light"
     },
     "output_type": "display_data"
    }
   ],
   "source": [
    "import matplotlib.pyplot as plt\n",
    "\n",
    "# Calcul de l'avancement final théorique xf_th de la réaction réalisée par chaque binôme\n",
    "t_xf_th = []\n",
    "for n2 in t_n2:\n",
    "    xf_th = n2 / 2  \n",
    "    t_xf_th.append(xf_th)\n",
    "#affichage du graphique    \n",
    "plt.figure('Evolution du sytème',figsize=(12,8))\n",
    "plt.title('Suivi de la réaction de précipitation')\n",
    "plt.xlabel('x (mol)')           \n",
    "plt.ylabel('n (mol)')\n",
    "plt.plot(t_xf_th,t_n1f,'--ro', label='n1f')              \n",
    "plt.plot(t_xf_th,t_n3f,'--bo', label='n3f')\n",
    "plt.grid()                                \n",
    "plt.legend(fontsize=14) \n",
    "plt.show()"
   ]
  },
  {
   "cell_type": "code",
   "execution_count": null,
   "metadata": {},
   "outputs": [],
   "source": []
  }
 ],
 "metadata": {
  "celltoolbar": "Aucun(e)",
  "kernelspec": {
   "display_name": "Python 3",
   "language": "python",
   "name": "python3"
  },
  "language_info": {
   "codemirror_mode": {
    "name": "ipython",
    "version": 3
   },
   "file_extension": ".py",
   "mimetype": "text/x-python",
   "name": "python",
   "nbconvert_exporter": "python",
   "pygments_lexer": "ipython3",
   "version": "3.7.3"
  }
 },
 "nbformat": 4,
 "nbformat_minor": 2
}
