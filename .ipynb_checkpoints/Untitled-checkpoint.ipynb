{
 "cells": [
  {
   "cell_type": "markdown",
   "metadata": {},
   "source": [
    "# THEME 1 / Constitution et transformation de la matière\n",
    "# _1SPE CHIM3_ - EVOLUTION D'UN SYSTEME CHIMIQUE\n",
    "## 1. Suivi de l’évolution d’un système, siège d’une transformation\n",
    "### Mise en situation :\n",
    "Il s'agit de suivre l'évolution d'une transformation chimique de précipitation simple afin de\n",
    "déterminer la composition de l'état final du mélange obtenu.\n",
    "\n",
    "Le suivi sera fait par l'utilisation de tests qualitatifs et quantitatifs de manière à réinvestir la loi de Beer-Lambert afin de modéliser l'évolution du système en fonction du travail de chaque groupe de TP.\n",
    "\n",
    "**Données :**\n",
    "- L'ion cuivre(II) réagit avec l'ion hydroxyde pour former un précipité d'hydroxyde de cuivre (II).\n",
    "- Seul l'ion cuivre(II) absorbe le rayonnement de longueur d'onde indiquée par le professeur ($\\lambda = 700~nm$)\n",
    "- Une réaction s'arrête lorsqu'un des réactifs n'est plus disponible, on parle alors de réactif limitant.\n",
    "- L’avancement d’une réaction, noté `x` , est une grandeur exprimée en mole qui permet de rendre compte de l’évolution des quantités de matière des espèces au sein d’un système chimique au cours du temps.\n",
    "- Tant que les réactifs n'ont pas été mis en contact `x = 0 mol`, la réaction n'a pas commencé!\n",
    "\n",
    "\n",
    "**Matériel :**\n",
    "Solution de sulfate de cuivre C1 = 0,10 mol·L-1\n",
    "Solution d'hydroxyde de sodium C2 = 1,0 mol·L-1\n",
    "1 erlenmeyer 100 mL\n",
    "3 béchers 100 mL\n",
    "1 bécher 200 mL\n",
    "1 éprouvette graduée 25 mL\n",
    "2 pipettes graduées 10 mL\n",
    "1 propipette\n",
    "1 entonnoir\n",
    "1 papier filtre\n",
    "3 pipettes pasteurs\n",
    "2 tubes à essais\n",
    "1 porte tubes\n",
    "\n",
    "On rappelle l'équation chimique de la réaction étudiée.\n"
   ]
  },
  {
   "cell_type": "code",
   "execution_count": null,
   "metadata": {},
   "outputs": [],
   "source": []
  }
 ],
 "metadata": {
  "kernelspec": {
   "display_name": "Python 3",
   "language": "python",
   "name": "python3"
  },
  "language_info": {
   "codemirror_mode": {
    "name": "ipython",
    "version": 3
   },
   "file_extension": ".py",
   "mimetype": "text/x-python",
   "name": "python",
   "nbconvert_exporter": "python",
   "pygments_lexer": "ipython3",
   "version": "3.7.3"
  }
 },
 "nbformat": 4,
 "nbformat_minor": 4
}
