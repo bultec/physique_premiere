{
 "cells": [
  {
   "cell_type": "markdown",
   "metadata": {},
   "source": [
    "# Evolution d'un système chimique - Application"
   ]
  },
  {
   "cell_type": "markdown",
   "metadata": {},
   "source": [
    "### Exercice\n",
    "On place un morceau de fer de masse $m=2,5~g$ dans un volume $V=100~mL$ d'une solution d'acide chlorhydrique de concentration en ions oxonium $C=0.20~mol.L^{-1}$.\n",
    "\n",
    "La réaction (suposée totale) qui se produit est la suivante:\n",
    "\n",
    ">$\\large Fe + 2~H_{3}O^{+} \\longrightarrow Fe^{2+} + H_{2} + 2~H_{2}O$\n",
    "\n",
    "Déterminer:\n",
    "1. L'avancement maximal\n",
    "2. Le réactif limitant\n",
    "3. La composition de système à l'état final\n",
    "4. La concentration finale en ions fer (II)\n",
    "5. En négligeant la quantité d'eau formée, déterminer le volume de dihydrogène dégagé.\n",
    "\n",
    "**Données**\n",
    "\n",
    "* Masse molaine du fer: $M(Fe)~=~55,9~g.mol^{-1}$\n",
    "* Volume molaire des gaz dans les conditions de l'expérience: $V_m~=~24~L.mol^{-1}$"
   ]
  },
  {
   "cell_type": "markdown",
   "metadata": {},
   "source": [
    "### Programme"
   ]
  },
  {
   "cell_type": "markdown",
   "metadata": {},
   "source": [
    "Affectation (multiple) des nombres stoechiométriques associés aux réactifs dans une première liste et associés aux produits dans une seconde liste :"
   ]
  },
  {
   "cell_type": "code",
   "execution_count": 1,
   "metadata": {},
   "outputs": [],
   "source": [
    "nombres_stoechiometriques_reactifs = [1,2]\n",
    "nombres_stoechiometriques_produits = [1,1,2]"
   ]
  },
  {
   "cell_type": "markdown",
   "metadata": {},
   "source": [
    "Calcul des quantités initiales de réactifs"
   ]
  },
  {
   "cell_type": "code",
   "execution_count": 2,
   "metadata": {},
   "outputs": [],
   "source": [
    "nFe = 2.5/55.9\n",
    "noxo = 0.20 * 100e-3"
   ]
  },
  {
   "cell_type": "markdown",
   "metadata": {},
   "source": [
    "Initialisation de la liste des quantités initiales en réactifs :"
   ]
  },
  {
   "cell_type": "code",
   "execution_count": 14,
   "metadata": {},
   "outputs": [
    {
     "name": "stdout",
     "output_type": "stream",
     "text": [
      "Quantité initiale en réactif R1 : 4.47e-02 mol\n",
      "Quantité initiale en réactif R2 : 2.00e-02 mol\n"
     ]
    }
   ],
   "source": [
    "quantites_reactifs = [nFe,noxo]\n",
    "for n in quantites_reactifs:\n",
    "    print(\"Quantité initiale en réactif R\"+str(quantites_reactifs.index(n)+1)+\" : \"+\"{:.2e}\".format(n)+\" mol\")"
   ]
  },
  {
   "cell_type": "markdown",
   "metadata": {},
   "source": [
    "Calcul, pour chaque réactif, de la valeur du rapport $\\displaystyle \\frac{quantité~initiale}{nombre~stoechiométrique}$"
   ]
  },
  {
   "cell_type": "code",
   "execution_count": 21,
   "metadata": {},
   "outputs": [
    {
     "name": "stdout",
     "output_type": "stream",
     "text": [
      "[0.044722719141323794, 0.010000000000000002]\n"
     ]
    }
   ],
   "source": [
    "xfinal = []\n",
    "for i in range(len(quantites_reactifs)):\n",
    "    xf = quantites_reactifs[i] / nombres_stoechiometriques_reactifs[i]\n",
    "    xfinal.append(xf)\n",
    "print(xfinal)"
   ]
  },
  {
   "cell_type": "markdown",
   "metadata": {},
   "source": [
    "Calcul et affichage de l'avancement maximal de la réaction :"
   ]
  },
  {
   "cell_type": "code",
   "execution_count": 17,
   "metadata": {},
   "outputs": [
    {
     "name": "stdout",
     "output_type": "stream",
     "text": [
      "Si la transformation est totale, l'avancement final vaut : xmax = 1.00e-02 mol.\n"
     ]
    }
   ],
   "source": [
    "xmax=min(xfinal)\n",
    "print(\"Si la transformation est totale, l'avancement final vaut : xmax =\",\"{:.2e}\".format(xmax),\"mol.\")"
   ]
  },
  {
   "cell_type": "markdown",
   "metadata": {},
   "source": [
    "Calcul et affichage de la quantité restante en chacun des réactifs :"
   ]
  },
  {
   "cell_type": "code",
   "execution_count": null,
   "metadata": {},
   "outputs": [],
   "source": [
    "quantites_finales_reactifs=quantites_reactifs-nombres_stoechiometriques_reactifs*xmax\n",
    "for i, n in enumerate(quantites_finales_reactifs,1):\n",
    "    print(\"Quantité finale en réactif R\"+str(i)+\" : \"+\"{:.2e}\".format(n)+\" mol\")"
   ]
  },
  {
   "cell_type": "markdown",
   "metadata": {},
   "source": [
    "Calcul et affichage de la quantité formée en chacun des produits :"
   ]
  },
  {
   "cell_type": "code",
   "execution_count": null,
   "metadata": {},
   "outputs": [],
   "source": [
    "quantites_finales_produits = nombres_stoechiometriques_produits*xmax         \n",
    "for i, n in enumerate(quantites_finales_produits,1):    \n",
    "    print(\"Quantité finale en produit P\"+str(i)+\" : \"+\"{:.2e}\".format(n)+\" mol\")"
   ]
  },
  {
   "cell_type": "markdown",
   "metadata": {},
   "source": [
    "Quantité de dihydrogène formé"
   ]
  },
  {
   "cell_type": "code",
   "execution_count": 22,
   "metadata": {},
   "outputs": [
    {
     "ename": "NameError",
     "evalue": "name 'quantites_finales_produits' is not defined",
     "output_type": "error",
     "traceback": [
      "\u001b[1;31m---------------------------------------------------------------------------\u001b[0m",
      "\u001b[1;31mNameError\u001b[0m                                 Traceback (most recent call last)",
      "\u001b[1;32m<ipython-input-22-e912b756d74b>\u001b[0m in \u001b[0;36m<module>\u001b[1;34m\u001b[0m\n\u001b[1;32m----> 1\u001b[1;33m \u001b[0mnH2\u001b[0m \u001b[1;33m=\u001b[0m \u001b[0mquantites_finales_produits\u001b[0m\u001b[1;33m[\u001b[0m\u001b[1;36m1\u001b[0m\u001b[1;33m]\u001b[0m\u001b[1;33m\u001b[0m\u001b[1;33m\u001b[0m\u001b[0m\n\u001b[0m\u001b[0;32m      2\u001b[0m \u001b[0mvH2\u001b[0m \u001b[1;33m=\u001b[0m \u001b[0mnH2\u001b[0m \u001b[1;33m*\u001b[0m \u001b[1;36m24\u001b[0m\u001b[1;33m\u001b[0m\u001b[1;33m\u001b[0m\u001b[0m\n\u001b[0;32m      3\u001b[0m \u001b[0mprint\u001b[0m\u001b[1;33m(\u001b[0m\u001b[1;34m\"Volume de dihydrogène dégagé :\"\u001b[0m\u001b[1;33m,\u001b[0m\u001b[1;34m\"{:.2e}\"\u001b[0m\u001b[1;33m.\u001b[0m\u001b[0mformat\u001b[0m\u001b[1;33m(\u001b[0m\u001b[0mnH2\u001b[0m\u001b[1;33m)\u001b[0m\u001b[1;33m,\u001b[0m\u001b[1;34m\"L (\"\u001b[0m\u001b[1;33m,\u001b[0m\u001b[1;34m\"{:.1f}\"\u001b[0m\u001b[1;33m.\u001b[0m\u001b[0mformat\u001b[0m\u001b[1;33m(\u001b[0m\u001b[0mnH2\u001b[0m\u001b[1;33m*\u001b[0m\u001b[1;36m1000\u001b[0m\u001b[1;33m)\u001b[0m\u001b[1;33m,\u001b[0m\u001b[1;34m\"mL)\"\u001b[0m\u001b[1;33m)\u001b[0m\u001b[1;33m\u001b[0m\u001b[1;33m\u001b[0m\u001b[0m\n",
      "\u001b[1;31mNameError\u001b[0m: name 'quantites_finales_produits' is not defined"
     ]
    }
   ],
   "source": [
    "nH2 = quantites_finales_produits[1]\n",
    "vH2 = nH2 * 24\n",
    "print(\"Volume de dihydrogène dégagé :\",\"{:.2e}\".format(nH2),\"L (\",\"{:.1f}\".format(nH2*1000),\"mL)\")"
   ]
  },
  {
   "cell_type": "markdown",
   "metadata": {},
   "source": [
    "Concentration en ions fer (II)"
   ]
  },
  {
   "cell_type": "code",
   "execution_count": null,
   "metadata": {},
   "outputs": [],
   "source": [
    "n_ion_fer =  quantites_finales_produits[0]\n",
    "cfe = n_ion_fer / 100e-3\n",
    "print(\"Concentration en ions fer (II) :\",\"{:.2e}\".format(cfe),\"mol.L-1\")"
   ]
  },
  {
   "cell_type": "code",
   "execution_count": null,
   "metadata": {},
   "outputs": [],
   "source": []
  }
 ],
 "metadata": {
  "celltoolbar": "Aucun(e)",
  "kernelspec": {
   "display_name": "Python 3",
   "language": "python",
   "name": "python3"
  },
  "language_info": {
   "codemirror_mode": {
    "name": "ipython",
    "version": 3
   },
   "file_extension": ".py",
   "mimetype": "text/x-python",
   "name": "python",
   "nbconvert_exporter": "python",
   "pygments_lexer": "ipython3",
   "version": "3.7.3"
  }
 },
 "nbformat": 4,
 "nbformat_minor": 2
}
